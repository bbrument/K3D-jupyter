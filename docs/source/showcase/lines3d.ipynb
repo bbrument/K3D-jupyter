{
 "cells": [
  {
   "cell_type": "markdown",
   "metadata": {},
   "source": [
    "## Lines 3d"
   ]
  },
  {
   "cell_type": "markdown",
   "metadata": {},
   "source": [
    "https://matplotlib.org/examples/mplot3d/lines3d_demo.html\n",
    "![Lines3d](https://matplotlib.org/2.0.2/_images/lines3d_demo1.png)"
   ]
  },
  {
   "cell_type": "code",
   "execution_count": null,
   "metadata": {},
   "outputs": [],
   "source": [
    "import numpy as np\n",
    "import k3d\n",
    "\n",
    "plot = k3d.plot()\n",
    "\n",
    "theta = np.linspace(-4 * np.pi, 4 * np.pi, 100, dtype=np.float32)\n",
    "z = np.linspace(-2, 2, 100, dtype=np.float32)\n",
    "r = z**2 + 1\n",
    "x = r * np.sin(theta)\n",
    "y = r * np.cos(theta)\n",
    "\n",
    "line = k3d.line(np.vstack([x,y,z]).T, width=0.2, scaling = [1,1,2])\n",
    "\n",
    "plot += line\n",
    "plot.display()"
   ]
  },
  {
   "cell_type": "code",
   "execution_count": null,
   "metadata": {},
   "outputs": [],
   "source": []
  }
 ],
 "metadata": {
  "kernelspec": {
   "display_name": "Python 2",
   "language": "python",
   "name": "python2"
  },
  "language_info": {
   "codemirror_mode": {
    "name": "ipython",
    "version": 2
   },
   "file_extension": ".py",
   "mimetype": "text/x-python",
   "name": "python",
   "nbconvert_exporter": "python",
   "pygments_lexer": "ipython2",
   "version": "2.7.15"
  },
  "widgets": {
   "application/vnd.jupyter.widget-state+json": {
    "state": {
     "27a8af8deeca4de0a10902859cbdb578": {
      "model_module": "k3d",
      "model_module_version": "2.6.9",
      "model_name": "PlotModel",
      "state": {
       "_backend_version": "2.6.8",
       "_dom_classes": [],
       "_view_count": null,
       "antialias": 3,
       "axes": [
        "x",
        "y",
        "z"
       ],
       "background_color": 16777215,
       "camera": [
        11.728375995450252,
        -16.73294449492251,
        1.1728375995450355,
        0,
        0.8596194982528687,
        0,
        0,
        0,
        1
       ],
       "camera_auto_fit": true,
       "camera_no_pan": false,
       "camera_no_rotate": false,
       "camera_no_zoom": false,
       "clipping_planes": [],
       "colorbar_object_id": -1,
       "fps_meter": false,
       "grid": [
        -1,
        -1,
        -1,
        1,
        1,
        1
       ],
       "grid_auto_fit": true,
       "grid_visible": true,
       "height": 512,
       "layout": "IPY_MODEL_37a4110015894ebb8d469fdf33051245",
       "lighting": 1,
       "menu_visibility": true,
       "object_ids": [
        1679288876896
       ],
       "rendering_steps": 1,
       "screenshot": "",
       "screenshot_scale": 4,
       "time": 0,
       "voxel_paint_color": 0
      }
     },
     "37a4110015894ebb8d469fdf33051245": {
      "model_module": "@jupyter-widgets/base",
      "model_module_version": "1.1.0",
      "model_name": "LayoutModel",
      "state": {}
     },
     "3c07d8dd1c1c46e098577791998527b3": {
      "buffers": [
       {
        "data": "eNoDAAAAAAE=",
        "encoding": "base64",
        "path": [
         "attribute",
         "compressed_buffer"
        ]
       },
       {
        "data": "eNoDAAAAAAE=",
        "encoding": "base64",
        "path": [
         "colors",
         "compressed_buffer"
        ]
       },
       {
        "data": "eNotlG1M1VUcx//XrdWwB3xgLTXDRIf0/GAjiPM95oYoq7DS2m32QmWZD6y0pTGkaXSDzQgy9E5y3qEwRjgdTQ3inu+xcFcd07EcanfdcATZrZyrUcxk9nvxe3de/M/5/x4+n29lZ/pYEMRsEAR+y95m7Es32YwLN1jRM8XGx3barPYxfn5PiX1tYLl9oOo65zxSYbsT0+yCst/Zv3KHLU7F8HTOKONf77SpwiXGjA8x8cZWe+X2l1jSn+T6xrCtbrvEV2KDTF55wn734Ay/6r0BjvUENnyzwL9V0k97vAnPd7zgN89KcFt5zEz8u9xXXT9JsyHgxYMlPtLXy3dHv2T+oqd8Y/QETeoqf757um/e2MWjhZl+Tl2SrfYwNw1k+7zuCI9Ob+cH/8zz00ac67nawh+ezPaha/XmVO9+NnyT6X/KXYXzDVGWffwX412duLx2N9f9eIKfzUzil/x63p+3kblTx3Htzjo+dDLhDn0asuNDH3HunsC49E3ctn473x65Fy3mV8yYuoWxM1V4uLMPj/WsY+N/h5C1JorFq9/kHYUO+y+V4vWMV3m6+QxqD35vNnUtZfv2BHKiZ3t3hMHcu7oxr7Xf7Zm0kCtmx7BrOJ9fdeRxOFQNTKokX87mrZbHMatmNy/cyGJqwbcmHT7A31omc/PMuUUHGmOcWBbi8Pw6V39+L3NG/3RFGzJYjghffOayK7+4mE0jYW6N9Lmh4gqu/WQ2Y4NHXOmUGmYMHndn5ze7P8pr+cWHh+N/vx9xp5bU8HS0wDxbv8atbHiHi7qTZtejBc51LGNpWw5S5zJd8Yr72GbLsDp1Ll454dyt2gpkmm3x4EjILZ1cjWPVrb1yNnp+Tr4x+k2R3IXeLZI3oW8a+Rf0X0ZqgNZgpDZobUZqhtZspBdoL0Z6hPZopHdo70ZmYnQmRmYV11lBZuh0hpDZUmcLmTl15pBdUHcB2RF1R5DdUXcH2Sl1p5BdU3cNYYDKAIQNKhsQZqjMQFhyyhKEMaOMQdiDsgdhEsokhFUoqxCGrTIMYdsq2xDmrTIPccGqCxBHrDoCcQfqDsQpqFMQ16CuQRx06iDETaqbEGe9Ogtx2avLEMe9Og5x36v7kEzwmgmQrPCaFZAM8ZohkGzxmi2QzPGaOZAsomYRKjvTCzWj7P+Zn1eh",
        "encoding": "base64",
        "path": [
         "vertices",
         "compressed_buffer"
        ]
       },
       {
        "data": "eNpjYGiwZ8AA2MQYHLCpAwBT2QJ+",
        "encoding": "base64",
        "path": [
         "model_matrix",
         "compressed_buffer"
        ]
       },
       {
        "data": "eNoDAAAAAAE=",
        "encoding": "base64",
        "path": [
         "color_map",
         "compressed_buffer"
        ]
       }
      ],
      "model_module": "k3d",
      "model_module_version": "2.6.9",
      "model_name": "ObjectModel",
      "state": {
       "_view_count": null,
       "_view_module": null,
       "_view_module_version": "",
       "_view_name": null,
       "attribute": {
        "dtype": "float32",
        "shape": [
         0
        ]
       },
       "color": 255,
       "color_map": {
        "dtype": "float32",
        "shape": [
         0
        ]
       },
       "color_range": [],
       "colors": {
        "dtype": "uint32",
        "shape": [
         0
        ]
       },
       "compression_level": 0,
       "id": 1679288876896,
       "model_matrix": {
        "dtype": "float32",
        "shape": [
         4,
         4
        ]
       },
       "name": null,
       "radial_segments": 8,
       "shader": "thick",
       "type": "Line",
       "vertices": {
        "dtype": "float32",
        "shape": [
         100,
         3
        ]
       },
       "visible": true,
       "width": 0.2
      }
     },
     "47c91241810c404486ac686281da85bc": {
      "model_module": "@jupyter-widgets/base",
      "model_module_version": "1.1.0",
      "model_name": "LayoutModel",
      "state": {}
     },
     "7b5eaf3f32134c248c1db9a4f4869eef": {
      "model_module": "@jupyter-widgets/output",
      "model_module_version": "1.0.0",
      "model_name": "OutputModel",
      "state": {
       "layout": "IPY_MODEL_47c91241810c404486ac686281da85bc",
       "outputs": [
        {
         "data": {
          "application/vnd.jupyter.widget-view+json": {
           "model_id": "27a8af8deeca4de0a10902859cbdb578",
           "version_major": 2,
           "version_minor": 0
          },
          "text/plain": "Plot(antialias=3, axes=['x', 'y', 'z'], background_color=16777215, camera=[4.5, 4.5, 4.5, 0.0, 0.0, 0.0, 1.0, …"
         },
         "metadata": {},
         "output_type": "display_data"
        }
       ]
      }
     }
    },
    "version_major": 2,
    "version_minor": 0
   }
  }
 },
 "nbformat": 4,
 "nbformat_minor": 2
}
